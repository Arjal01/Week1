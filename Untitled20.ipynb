{
 "cells": [
  {
   "cell_type": "code",
   "execution_count": 1,
   "metadata": {},
   "outputs": [
    {
     "name": "stdout",
     "output_type": "stream",
     "text": [
      "Hamming Code: 0110011\n",
      "Received Code with Error: 0100011\n",
      "Error detected at position: 3\n",
      "Corrected Code: 0110011\n"
     ]
    }
   ],
   "source": [
    "def calculate_parity_bits(data):\n",
    "    m = len(data)\n",
    "    r = 0\n",
    "    \n",
    "    while (2**r < m + r + 1):\n",
    "        r += 1\n",
    "    return r\n",
    "\n",
    "def insert_parity_bits(data):\n",
    "    m = len(data)\n",
    "    r = calculate_parity_bits(data)\n",
    "    \n",
    "    \n",
    "    hamming_code = ['0'] * (m + r)\n",
    "    \n",
    "    j = 0\n",
    "    for i in range(1, len(hamming_code) + 1):\n",
    "        \n",
    "        if i & (i - 1) == 0:\n",
    "            hamming_code[i - 1] = '0'  \n",
    "        else:\n",
    "            hamming_code[i - 1] = data[j]\n",
    "            j += 1\n",
    "\n",
    "    \n",
    "    for i in range(r):\n",
    "        parity_pos = 2**i\n",
    "        parity_value = 0\n",
    "        for j in range(1, len(hamming_code) + 1):\n",
    "            if j & parity_pos == parity_pos:  \n",
    "                parity_value ^= int(hamming_code[j - 1])\n",
    "        hamming_code[parity_pos - 1] = str(parity_value)\n",
    "\n",
    "    return ''.join(hamming_code)\n",
    "\n",
    "def detect_and_correct_error(received_code):\n",
    "    r = calculate_parity_bits(received_code)\n",
    "    error_position = 0\n",
    "    \n",
    "   \n",
    "    for i in range(r):\n",
    "        parity_pos = 2**i\n",
    "        parity_value = 0\n",
    "        for j in range(1, len(received_code) + 1):\n",
    "            if j & parity_pos == parity_pos:  \n",
    "                parity_value ^= int(received_code[j - 1])\n",
    "        if parity_value != 0:\n",
    "            error_position += parity_pos\n",
    "\n",
    "    if error_position != 0:\n",
    "        print(f\"Error detected at position: {error_position}\")\n",
    "       \n",
    "        corrected_code = list(received_code)\n",
    "        corrected_code[error_position - 1] = '1' if received_code[error_position - 1] == '0' else '0'\n",
    "        return ''.join(corrected_code), error_position\n",
    "    else:\n",
    "        print(\"No error detected.\")\n",
    "        return received_code, None\n",
    "\n",
    "\n",
    "if __name__ == \"__main__\":\n",
    "    \n",
    "    data = \"1011\"\n",
    "    \n",
    "   \n",
    "    hamming_code = insert_parity_bits(data)\n",
    "    print(f\"Hamming Code: {hamming_code}\")\n",
    "\n",
    "   \n",
    "    received_code = list(hamming_code)\n",
    "    received_code[2] = '1' if received_code[2] == '0' else '0'  \n",
    "    received_code = ''.join(received_code)\n",
    "    print(f\"Received Code with Error: {received_code}\")\n",
    "\n",
    "    \n",
    "    corrected_code, error_position = detect_and_correct_error(received_code)\n",
    "    print(f\"Corrected Code: {corrected_code}\")"
   ]
  },
  {
   "cell_type": "code",
   "execution_count": 4,
   "metadata": {},
   "outputs": [
    {
     "name": "stdout",
     "output_type": "stream",
     "text": [
      "Enter the data bits: 1011\n",
      "Generated Hamming code (including parity bits):\n",
      "0110011\n",
      "Error detected at position 10.\n"
     ]
    }
   ],
   "source": []
  },
  {
   "cell_type": "code",
   "execution_count": null,
   "metadata": {},
   "outputs": [],
   "source": []
  }
 ],
 "metadata": {
  "kernelspec": {
   "display_name": "Python 3",
   "language": "python",
   "name": "python3"
  },
  "language_info": {
   "codemirror_mode": {
    "name": "ipython",
    "version": 3
   },
   "file_extension": ".py",
   "mimetype": "text/x-python",
   "name": "python",
   "nbconvert_exporter": "python",
   "pygments_lexer": "ipython3",
   "version": "3.8.5"
  }
 },
 "nbformat": 4,
 "nbformat_minor": 4
}
