{
 "cells": [
  {
   "cell_type": "code",
   "execution_count": 1,
   "metadata": {},
   "outputs": [
    {
     "name": "stdout",
     "output_type": "stream",
     "text": [
      "29959201111110\n",
      "3921\n",
      "stuffed_data:  0\n"
     ]
    }
   ],
   "source": [
    "def bit_stuffing (data:str)-> str:\n",
    "    stuffed_data = ' '\n",
    "    count =0 \n",
    "    for bit in data :\n",
    "        stuffed_data += bit\n",
    "        if bit=='1':\n",
    "            count+=1\n",
    "        else:\n",
    "            count= 0\n",
    "        if count == 5:\n",
    "            stuffed_data+='0'\n",
    "            count = 0\n",
    "        return stuffed_data\n",
    "    \n",
    "def destuffing(data:str)-> str:\n",
    "    destuffed_data = ' '\n",
    "    count = 0\n",
    "    i=0\n",
    "    while i<len(data):\n",
    "        bit= data[i]\n",
    "        if bit=='1':\n",
    "            count+=1\n",
    "        else:\n",
    "            count=0\n",
    "        destuffed_data +=bit\n",
    "        i+=1\n",
    "        return destuffed_data\n",
    "    \n",
    "data = input(0o1111110)\n",
    "delimiter = input(0o610)\n",
    "stuffed_data= bit_stuffing(data)\n",
    "print(\"stuffed_data:\",stuffed_data)\n",
    "destuffed_data= bit_stuffing"
   ]
  },
  {
   "cell_type": "code",
   "execution_count": null,
   "metadata": {},
   "outputs": [],
   "source": []
  },
  {
   "cell_type": "code",
   "execution_count": null,
   "metadata": {},
   "outputs": [],
   "source": []
  }
 ],
 "metadata": {
  "kernelspec": {
   "display_name": "Python 3",
   "language": "python",
   "name": "python3"
  },
  "language_info": {
   "codemirror_mode": {
    "name": "ipython",
    "version": 3
   },
   "file_extension": ".py",
   "mimetype": "text/x-python",
   "name": "python",
   "nbconvert_exporter": "python",
   "pygments_lexer": "ipython3",
   "version": "3.8.5"
  }
 },
 "nbformat": 4,
 "nbformat_minor": 4
}
