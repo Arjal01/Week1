{
 "cells": [
  {
   "cell_type": "code",
   "execution_count": 2,
   "metadata": {},
   "outputs": [
    {
     "name": "stdout",
     "output_type": "stream",
     "text": [
      "Enter the celsius value : 45\n",
      "113 F\n",
      "Enter the fahrenheit value : 113\n",
      "45 C\n"
     ]
    }
   ],
   "source": [
    "#Design a python program that converts temperature from celcius to fahrenheit and vice versa. prompt the user to input the temperature value along with the unit. store these values in variables, perform the conversion, and display the result to the user.\n",
    "\n",
    "\n",
    "def celsius_to_fahrenheit(c):\n",
    "    f = (c * 9/5) + 32\n",
    "    return f\n",
    "c = float(input(\"Enter the celsius value : \"))\n",
    "f = celsius_to_fahrenheit(c)\n",
    "print('%.f F' %(f))\n",
    "\n",
    "\n",
    "def fahrenheit_to_celsius(f):\n",
    "    c = (f - 32)* 5/9\n",
    "    return c\n",
    "f = float(input(\"Enter the fahrenheit value : \"))\n",
    "c = fahrenheit_to_celsius(f)\n",
    "print('%.f C' %(c))\n",
    "\n",
    "\n",
    "\n"
   ]
  },
  {
   "cell_type": "code",
   "execution_count": 3,
   "metadata": {},
   "outputs": [
    {
     "name": "stdout",
     "output_type": "stream",
     "text": [
      "enter the value1\n",
      "enter the value2\n",
      "3.0\n"
     ]
    }
   ],
   "source": [
    "\n",
    "a= float(input(\"enter the value\"))\n",
    "b= float(input(\"enter the value\"))\n",
    "c= a+b\n",
    "print(c)"
   ]
  },
  {
   "cell_type": "code",
   "execution_count": 4,
   "metadata": {},
   "outputs": [
    {
     "name": "stdout",
     "output_type": "stream",
     "text": [
      "enter the value3\n",
      "enter the value4\n",
      "7\n"
     ]
    }
   ],
   "source": [
    "\n",
    "a= int(input(\"enter the value\"))\n",
    "b= int(input(\"enter the value\"))\n",
    "c= a+b\n",
    "print(c)"
   ]
  },
  {
   "cell_type": "code",
   "execution_count": 10,
   "metadata": {},
   "outputs": [
    {
     "name": "stdout",
     "output_type": "stream",
     "text": [
      "enter the complex no.4+3j\n",
      " the magnitude of a is 5.0\n"
     ]
    }
   ],
   "source": [
    "import math \n",
    "a = complex(input(\"enter the complex no.\"))\n",
    "\n",
    "c= math.sqrt( a.real**2 + a.imag**2)\n",
    "print(f' the magnitude of a is {c}')"
   ]
  },
  {
   "cell_type": "code",
   "execution_count": null,
   "metadata": {},
   "outputs": [],
   "source": []
  }
 ],
 "metadata": {
  "kernelspec": {
   "display_name": "Python 3",
   "language": "python",
   "name": "python3"
  },
  "language_info": {
   "codemirror_mode": {
    "name": "ipython",
    "version": 3
   },
   "file_extension": ".py",
   "mimetype": "text/x-python",
   "name": "python",
   "nbconvert_exporter": "python",
   "pygments_lexer": "ipython3",
   "version": "3.8.5"
  }
 },
 "nbformat": 4,
 "nbformat_minor": 4
}
