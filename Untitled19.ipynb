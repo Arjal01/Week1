{
 "cells": [
  {
   "cell_type": "code",
   "execution_count": 6,
   "metadata": {},
   "outputs": [
    {
     "name": "stdout",
     "output_type": "stream",
     "text": [
      "Enter the data bits (binary string): 1101011011\n",
      "Enter the polynomial bits (binary string): 10011\n",
      "Data Bits: 1101011011\n",
      "Polynomial Bits: 10011\n",
      "Initial Filler: 0\n",
      "CRC Remainder: 01110\n"
     ]
    }
   ],
   "source": [
    "def xor_bits(a, b):\n",
    "    return ''.join('1' if bit1 != bit2 else '0' for bit1, bit2 in zip(a, b))\n",
    "\n",
    "def crc(data_bits, polynomial_bits, initial_filler='0'):\n",
    "    polynomial_length = len(polynomial_bits)\n",
    "    data_bits = data_bits + '0' * (polynomial_length - 1)\n",
    "    crc = initial_filler * polynomial_length\n",
    "  \n",
    "    for bit in data_bits:\n",
    "        crc = crc[1:] + bit\n",
    "        if crc[0] == '1':\n",
    "            crc = xor_bits(crc, polynomial_bits)\n",
    "    return crc\n",
    "data_bits = input(\"Enter the data bits (binary string): \").strip()\n",
    "polynomial_bits = input(\"Enter the polynomial bits (binary string): \").strip()\n",
    "if not all(bit in '01' for bit in data_bits) or not all(bit in '01' for bit in polynomial_bits):\n",
    "    print(\"Error: Both data bits and polynomial bits must be binary strings.\")\n",
    "else:\n",
    "    initial_filler = '0' \n",
    "    remainder = crc(data_bits, polynomial_bits, initial_filler)\n",
    "    print(f\"Data Bits: {data_bits}\")\n",
    "    print(f\"Polynomial Bits: {polynomial_bits}\")\n",
    "    print(f\"Initial Filler: {initial_filler}\")\n",
    "    print(f\"CRC Remainder: {remainder}\")"
   ]
  },
  {
   "cell_type": "code",
   "execution_count": null,
   "metadata": {},
   "outputs": [],
   "source": []
  }
 ],
 "metadata": {
  "kernelspec": {
   "display_name": "Python 3",
   "language": "python",
   "name": "python3"
  },
  "language_info": {
   "codemirror_mode": {
    "name": "ipython",
    "version": 3
   },
   "file_extension": ".py",
   "mimetype": "text/x-python",
   "name": "python",
   "nbconvert_exporter": "python",
   "pygments_lexer": "ipython3",
   "version": "3.8.5"
  }
 },
 "nbformat": 4,
 "nbformat_minor": 4
}
